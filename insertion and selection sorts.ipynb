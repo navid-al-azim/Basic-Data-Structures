{
 "cells": [
  {
   "cell_type": "markdown",
   "id": "6a538121",
   "metadata": {},
   "source": [
    "# Insertion Sort"
   ]
  },
  {
   "cell_type": "code",
   "execution_count": 31,
   "id": "0e9268c1",
   "metadata": {},
   "outputs": [],
   "source": [
    "# swap\n",
    "def insertion_sort_swap(a):\n",
    "    size = len(a)\n",
    "    \n",
    "    for i in range(1, size):\n",
    "        j = i-1\n",
    "        while a[j] > a[j+1] and j >= 0:\n",
    "            a[j], a[j+1] = a[j+1], a[j]\n",
    "            j -= 1\n",
    "            \n",
    "    return a \n",
    "\n",
    "# shift\n",
    "def insertion_sort_shift(a):\n",
    "    size = len(a)\n",
    "    reverse = []\n",
    "    for i in range(1, size):\n",
    "        curr = a[i]\n",
    "        j = i-1\n",
    "        while a[j] > curr and j >= 0:\n",
    "            a[j+1] = a[j]\n",
    "            j -= 1\n",
    "        a[j+1] = curr\n",
    "        \n",
    "#     x = len(a)-1\n",
    "#     while x >= 0:\n",
    "#         reverse.append(a[x])\n",
    "#         x -= 1\n",
    "    return a"
   ]
  },
  {
   "cell_type": "code",
   "execution_count": 32,
   "id": "c4ecbeee",
   "metadata": {},
   "outputs": [
    {
     "data": {
      "text/plain": [
       "[1, 2, 3, 4, 5, 6, 7]"
      ]
     },
     "execution_count": 32,
     "metadata": {},
     "output_type": "execute_result"
    }
   ],
   "source": [
    "insertion_sort_swap([2,1,4,3,7,6,5])"
   ]
  },
  {
   "cell_type": "code",
   "execution_count": 33,
   "id": "8c90d158",
   "metadata": {},
   "outputs": [
    {
     "data": {
      "text/plain": [
       "[1, 2, 3, 4, 5, 6, 7]"
      ]
     },
     "execution_count": 33,
     "metadata": {},
     "output_type": "execute_result"
    }
   ],
   "source": [
    "insertion_sort_shift([2,1,4,3,7,6,5])"
   ]
  },
  {
   "cell_type": "markdown",
   "id": "021806a5",
   "metadata": {},
   "source": [
    "# Selection Sort"
   ]
  },
  {
   "cell_type": "code",
   "execution_count": 7,
   "id": "f395720c",
   "metadata": {},
   "outputs": [],
   "source": [
    "def selection_sort(a):\n",
    "    size = len(a)\n",
    "    for i in range(size-1):\n",
    "        min_index = i\n",
    "        for j in range(i+1, size):\n",
    "            if a[j] < a[min_index]:\n",
    "                min_index = j\n",
    "        if i != min_index:\n",
    "            a[i], a[min_index] = a[min_index], a[i]\n",
    "            \n",
    "    return a "
   ]
  },
  {
   "cell_type": "code",
   "execution_count": 8,
   "id": "41a12ccb",
   "metadata": {},
   "outputs": [
    {
     "data": {
      "text/plain": [
       "[1, 2, 3, 4, 5, 6, 7]"
      ]
     },
     "execution_count": 8,
     "metadata": {},
     "output_type": "execute_result"
    }
   ],
   "source": [
    "selection_sort([2,1,4,3,7,6,5]) "
   ]
  },
  {
   "cell_type": "markdown",
   "id": "e35f1c25",
   "metadata": {},
   "source": [
    "# Insertion and Selection Sorts in Descending Orders"
   ]
  },
  {
   "cell_type": "code",
   "execution_count": 36,
   "id": "2cfe4b99",
   "metadata": {},
   "outputs": [],
   "source": [
    "# Insertion Sort \n",
    "def insertion_desc(a):\n",
    "    size = len(a)\n",
    "    for i in range(1, size):\n",
    "        curr = a[i]\n",
    "        j = i-1\n",
    "        while a[j] < curr and j >= 0:\n",
    "            a[j+1] = a[j]\n",
    "            j -= 1 \n",
    "        a[j+1] = curr\n",
    "    return a "
   ]
  },
  {
   "cell_type": "code",
   "execution_count": 35,
   "id": "4c95d369",
   "metadata": {},
   "outputs": [
    {
     "data": {
      "text/plain": [
       "[7, 6, 5, 4, 3, 2, 1]"
      ]
     },
     "execution_count": 35,
     "metadata": {},
     "output_type": "execute_result"
    }
   ],
   "source": [
    "insertion_desc([2,1,4,3,7,6,5])"
   ]
  },
  {
   "cell_type": "code",
   "execution_count": 37,
   "id": "a8ba8611",
   "metadata": {},
   "outputs": [],
   "source": [
    "# Selection Sort\n",
    "def selection_desc(a):\n",
    "    size = len(a)\n",
    "    for i in range(size-1):\n",
    "        max_index = i\n",
    "        for j in range(i+1, size):\n",
    "            if a[j] > a[max_index]:\n",
    "                max_index = j\n",
    "        if i != max_index:\n",
    "            a[i], a[max_index] = a[max_index], a[i]\n",
    "            \n",
    "    return a "
   ]
  },
  {
   "cell_type": "code",
   "execution_count": 38,
   "id": "0102ebd7",
   "metadata": {},
   "outputs": [
    {
     "data": {
      "text/plain": [
       "[7, 6, 5, 4, 3, 2, 1]"
      ]
     },
     "execution_count": 38,
     "metadata": {},
     "output_type": "execute_result"
    }
   ],
   "source": [
    "selection_desc([2,1,4,3,7,6,5])"
   ]
  },
  {
   "cell_type": "code",
   "execution_count": null,
   "id": "ad4a6af1",
   "metadata": {},
   "outputs": [],
   "source": []
  }
 ],
 "metadata": {
  "kernelspec": {
   "display_name": "Python 3",
   "language": "python",
   "name": "python3"
  },
  "language_info": {
   "codemirror_mode": {
    "name": "ipython",
    "version": 3
   },
   "file_extension": ".py",
   "mimetype": "text/x-python",
   "name": "python",
   "nbconvert_exporter": "python",
   "pygments_lexer": "ipython3",
   "version": "3.8.8"
  }
 },
 "nbformat": 4,
 "nbformat_minor": 5
}
