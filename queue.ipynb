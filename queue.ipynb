{
 "cells": [
  {
   "cell_type": "code",
   "execution_count": 26,
   "id": "58dd7ffa",
   "metadata": {},
   "outputs": [],
   "source": [
    "# importing deque from collections library\n",
    "# deque has built-in stack functions \n",
    "from collections import deque"
   ]
  },
  {
   "cell_type": "code",
   "execution_count": 27,
   "id": "2500af45",
   "metadata": {},
   "outputs": [],
   "source": [
    "class queue:\n",
    "    def __init__(self):\n",
    "        self.box = deque()\n",
    "    \n",
    "    # inserting values in a queue\n",
    "    def enqueue(self, val):\n",
    "        self.box.appendleft(val)\n",
    "        \n",
    "    # poping the first value inside the queue\n",
    "    # queue follows FIFO(first in first out)\n",
    "    def dequeue(self):\n",
    "        return self.box.pop()\n",
    "    \n",
    "    # checking if the queue list is empty or not\n",
    "    def is_empty(self):\n",
    "        if len(self.box) == 0:\n",
    "            print('The queue is empty!!!!')\n",
    "        else: \n",
    "            print('The queue has some juices left in it....')\n",
    "            \n",
    "    # displaying the length of the queue\n",
    "    def size(self):\n",
    "        return len(self.box)\n",
    "    \n",
    "    # displaying the last pushed item\n",
    "    def peek(self):\n",
    "        return self.box[0]\n",
    "    \n",
    "    # displaying the values inside the queue as a list\n",
    "    def display(self):\n",
    "        i = len(self.box)-1\n",
    "        elem = []\n",
    "        while i >= 0:\n",
    "            elem.append(self.box[i])\n",
    "            i -= 1\n",
    "        return elem"
   ]
  },
  {
   "cell_type": "code",
   "execution_count": 28,
   "id": "dd5bb67f",
   "metadata": {},
   "outputs": [],
   "source": [
    "q = queue()"
   ]
  },
  {
   "cell_type": "code",
   "execution_count": 29,
   "id": "a4e88235",
   "metadata": {},
   "outputs": [],
   "source": [
    "q.enqueue(1)\n",
    "q.enqueue(2)\n",
    "q.enqueue(3)\n",
    "q.enqueue(4)\n",
    "q.enqueue(5)"
   ]
  },
  {
   "cell_type": "code",
   "execution_count": 30,
   "id": "054c63d1",
   "metadata": {},
   "outputs": [
    {
     "data": {
      "text/plain": [
       "[1, 2, 3, 4, 5]"
      ]
     },
     "execution_count": 30,
     "metadata": {},
     "output_type": "execute_result"
    }
   ],
   "source": [
    "q.display()"
   ]
  },
  {
   "cell_type": "code",
   "execution_count": 31,
   "id": "3ff7dd55",
   "metadata": {},
   "outputs": [
    {
     "data": {
      "text/plain": [
       "5"
      ]
     },
     "execution_count": 31,
     "metadata": {},
     "output_type": "execute_result"
    }
   ],
   "source": [
    "q.size()"
   ]
  },
  {
   "cell_type": "code",
   "execution_count": 32,
   "id": "4740e6ad",
   "metadata": {},
   "outputs": [
    {
     "name": "stdout",
     "output_type": "stream",
     "text": [
      "The queue has some juices left in it....\n"
     ]
    }
   ],
   "source": [
    "q.is_empty()"
   ]
  },
  {
   "cell_type": "code",
   "execution_count": 33,
   "id": "e04559f7",
   "metadata": {},
   "outputs": [
    {
     "data": {
      "text/plain": [
       "5"
      ]
     },
     "execution_count": 33,
     "metadata": {},
     "output_type": "execute_result"
    }
   ],
   "source": [
    "q.peek()"
   ]
  },
  {
   "cell_type": "code",
   "execution_count": 34,
   "id": "d0dc4e17",
   "metadata": {},
   "outputs": [
    {
     "data": {
      "text/plain": [
       "1"
      ]
     },
     "execution_count": 34,
     "metadata": {},
     "output_type": "execute_result"
    }
   ],
   "source": [
    "q.dequeue()"
   ]
  },
  {
   "cell_type": "code",
   "execution_count": 35,
   "id": "5a456eda",
   "metadata": {},
   "outputs": [
    {
     "data": {
      "text/plain": [
       "5"
      ]
     },
     "execution_count": 35,
     "metadata": {},
     "output_type": "execute_result"
    }
   ],
   "source": [
    "q.dequeue()\n",
    "q.dequeue()\n",
    "q.dequeue()\n",
    "q.dequeue()"
   ]
  },
  {
   "cell_type": "code",
   "execution_count": 36,
   "id": "6b5f7097",
   "metadata": {},
   "outputs": [
    {
     "data": {
      "text/plain": [
       "0"
      ]
     },
     "execution_count": 36,
     "metadata": {},
     "output_type": "execute_result"
    }
   ],
   "source": [
    "q.size()"
   ]
  },
  {
   "cell_type": "code",
   "execution_count": 37,
   "id": "6b89f571",
   "metadata": {},
   "outputs": [
    {
     "name": "stdout",
     "output_type": "stream",
     "text": [
      "The queue is empty!!!!\n"
     ]
    }
   ],
   "source": [
    "q.is_empty()"
   ]
  },
  {
   "cell_type": "code",
   "execution_count": 38,
   "id": "99b8a9f3",
   "metadata": {},
   "outputs": [],
   "source": [
    "q.enqueue(10)"
   ]
  },
  {
   "cell_type": "code",
   "execution_count": 39,
   "id": "00df98d5",
   "metadata": {},
   "outputs": [],
   "source": [
    "q.enqueue(9)"
   ]
  },
  {
   "cell_type": "code",
   "execution_count": 40,
   "id": "22492b70",
   "metadata": {},
   "outputs": [
    {
     "data": {
      "text/plain": [
       "9"
      ]
     },
     "execution_count": 40,
     "metadata": {},
     "output_type": "execute_result"
    }
   ],
   "source": [
    "q.peek()"
   ]
  },
  {
   "cell_type": "code",
   "execution_count": 41,
   "id": "b3b391df",
   "metadata": {},
   "outputs": [
    {
     "data": {
      "text/plain": [
       "[10, 9]"
      ]
     },
     "execution_count": 41,
     "metadata": {},
     "output_type": "execute_result"
    }
   ],
   "source": [
    "q.display()"
   ]
  }
 ],
 "metadata": {
  "kernelspec": {
   "display_name": "Python 3",
   "language": "python",
   "name": "python3"
  },
  "language_info": {
   "codemirror_mode": {
    "name": "ipython",
    "version": 3
   },
   "file_extension": ".py",
   "mimetype": "text/x-python",
   "name": "python",
   "nbconvert_exporter": "python",
   "pygments_lexer": "ipython3",
   "version": "3.8.8"
  }
 },
 "nbformat": 4,
 "nbformat_minor": 5
}
