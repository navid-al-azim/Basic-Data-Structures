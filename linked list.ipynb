{
 "cells": [
  {
   "cell_type": "code",
   "execution_count": 339,
   "id": "78082557",
   "metadata": {},
   "outputs": [],
   "source": [
    "# node class\n",
    "# linked_list Class\n",
    "# functions\n",
    "\n",
    "class node:\n",
    "    def __init__(self, data = None):\n",
    "        self.data = data\n",
    "        self.next = None \n",
    "        \n",
    "class linked_list:\n",
    "    def __init__(self):\n",
    "        self.head = node()\n",
    "        \n",
    "    # adding values in the list\n",
    "    def append(self, data):\n",
    "        new_node = node(data)\n",
    "        curr = self.head\n",
    "        while curr.next != None:\n",
    "            curr = curr.next\n",
    "        curr.next = new_node\n",
    "        \n",
    "    # printing linked list\n",
    "    def display(self):\n",
    "        elem = []\n",
    "        curr = self.head\n",
    "        while curr.next != None:\n",
    "            curr = curr.next\n",
    "            elem.append(curr.data)\n",
    "        print(elem)\n",
    "        \n",
    "    # length of linked list\n",
    "    def length(self):\n",
    "        curr = self.head\n",
    "        total = 0\n",
    "        while curr.next != None:\n",
    "            total += 1 \n",
    "            curr = curr.next\n",
    "        return total\n",
    "    \n",
    "    # returning value of a specific index\n",
    "    def get(self, index):\n",
    "        if index >= self.length():\n",
    "            print('baal khelo?')\n",
    "            return None \n",
    "        curr = self.head\n",
    "        curr_idx = 0\n",
    "        while True:\n",
    "            curr = curr.next\n",
    "            if curr_idx == index:\n",
    "                return curr.data\n",
    "            curr_idx += 1 \n",
    "            \n",
    "    # deleting value of a specific index\n",
    "    def erase(self, index):\n",
    "        if index >= self.length():\n",
    "            print('baal khelo?')\n",
    "            return None \n",
    "        curr = self.head\n",
    "        curr_idx = 0\n",
    "        while True:\n",
    "            last = curr\n",
    "            curr = curr.next\n",
    "            if curr_idx == index:\n",
    "                last.next = curr.next\n",
    "                return\n",
    "            curr_idx += 1 \n",
    "            \n",
    "    # inserting value to a specific index\n",
    "    def insert(self, index, new_data):\n",
    "        if index > self.length():\n",
    "            print('baal khelo?')\n",
    "            return None \n",
    "        new_node = node(new_data)\n",
    "        curr = self.head\n",
    "        idx = 0\n",
    "        while curr.next != None:\n",
    "            last = curr\n",
    "            curr = curr.next\n",
    "            if idx == index:\n",
    "                temp = curr\n",
    "                curr = new_node \n",
    "                last.next = curr\n",
    "                curr.next = temp\n",
    "                return\n",
    "            idx += 1\n",
    "            \n",
    "    # replacing a value on a specific index\n",
    "    def replace(self, index, data_bhai):\n",
    "        if index >= self.length():\n",
    "            print('baal khelo?')\n",
    "            return None \n",
    "        new_node = node(data_bhai)\n",
    "        curr = self.head\n",
    "        idx = 0\n",
    "        while True:\n",
    "            last = curr\n",
    "            curr = curr.next\n",
    "            if idx == index:\n",
    "                temp = curr.next\n",
    "                curr = new_node \n",
    "                last.next = curr\n",
    "                curr.next = temp\n",
    "                return\n",
    "            idx += 1 \n",
    "            \n",
    "    # summation of a linked list\n",
    "    def sum_of_list(self):\n",
    "        curr = self.head\n",
    "        total = 0\n",
    "        while curr.next != None:\n",
    "            curr = curr.next\n",
    "            total = total + curr.data\n",
    "        return total\n",
    "    \n",
    "    # sum of two index\n",
    "#     def sums(self, i1, i2):\n",
    "#         if i1 >= self.length():\n",
    "#             print('baal khelo?')\n",
    "#             return None\n",
    "#         if i2 >= self.length():\n",
    "#             print('baal khelo?')\n",
    "#             return None\n",
    "#         curr = self.head\n",
    "#         total = 0\n",
    "#         a = 0\n",
    "#         b = 0\n",
    "#         while True:\n",
    "#             curr = curr.next\n",
    "#             if a == i1:\n",
    "#                 x = curr.data\n",
    "#                 total = x + total\n",
    "#             i1 += 1\n",
    "#             return total \n",
    "             \n",
    "            \n",
    "#         while True:\n",
    "#             curr = curr.next\n",
    "#             if b == i2:\n",
    "#                 y = curr.data\n",
    "#                 total = y + total\n",
    "#             i2 += 1\n",
    "#             return total \n",
    "             \n",
    "             \n",
    "            \n",
    "       \n",
    "            \n",
    "#         return total"
   ]
  },
  {
   "cell_type": "code",
   "execution_count": 340,
   "id": "26283297",
   "metadata": {},
   "outputs": [],
   "source": [
    "my_list = linked_list()"
   ]
  },
  {
   "cell_type": "code",
   "execution_count": 341,
   "id": "2ea2136a",
   "metadata": {},
   "outputs": [
    {
     "name": "stdout",
     "output_type": "stream",
     "text": [
      "[]\n"
     ]
    }
   ],
   "source": [
    "my_list.display()"
   ]
  },
  {
   "cell_type": "code",
   "execution_count": 342,
   "id": "6184e919",
   "metadata": {},
   "outputs": [],
   "source": [
    "my_list.append(1)\n",
    "my_list.append(2)\n",
    "my_list.append(3)\n",
    "my_list.append(4)\n",
    "my_list.append(5)\n",
    "my_list.append(6)\n",
    "my_list.append(7)\n",
    "my_list.append(8)"
   ]
  },
  {
   "cell_type": "code",
   "execution_count": 343,
   "id": "c87af5de",
   "metadata": {},
   "outputs": [
    {
     "name": "stdout",
     "output_type": "stream",
     "text": [
      "[1, 2, 3, 4, 5, 6, 7, 8]\n"
     ]
    }
   ],
   "source": [
    "my_list.display()"
   ]
  },
  {
   "cell_type": "code",
   "execution_count": 344,
   "id": "7ed07ec6",
   "metadata": {},
   "outputs": [
    {
     "data": {
      "text/plain": [
       "8"
      ]
     },
     "execution_count": 344,
     "metadata": {},
     "output_type": "execute_result"
    }
   ],
   "source": [
    "my_list.length()"
   ]
  },
  {
   "cell_type": "code",
   "execution_count": 345,
   "id": "3d9545d5",
   "metadata": {},
   "outputs": [
    {
     "data": {
      "text/plain": [
       "5"
      ]
     },
     "execution_count": 345,
     "metadata": {},
     "output_type": "execute_result"
    }
   ],
   "source": [
    "my_list.get(4)"
   ]
  },
  {
   "cell_type": "code",
   "execution_count": 346,
   "id": "cafa0393",
   "metadata": {},
   "outputs": [],
   "source": [
    "my_list.erase(5)"
   ]
  },
  {
   "cell_type": "code",
   "execution_count": 347,
   "id": "eec6bcf6",
   "metadata": {},
   "outputs": [],
   "source": [
    "my_list.insert(6, 10)"
   ]
  },
  {
   "cell_type": "code",
   "execution_count": 348,
   "id": "a4e875bf",
   "metadata": {},
   "outputs": [
    {
     "name": "stdout",
     "output_type": "stream",
     "text": [
      "[1, 2, 3, 4, 5, 7, 10, 8]\n"
     ]
    }
   ],
   "source": [
    "my_list.display()"
   ]
  },
  {
   "cell_type": "code",
   "execution_count": 349,
   "id": "7b3eb806",
   "metadata": {},
   "outputs": [],
   "source": [
    "my_list.replace(1, 11)"
   ]
  },
  {
   "cell_type": "code",
   "execution_count": 350,
   "id": "81427d7f",
   "metadata": {},
   "outputs": [
    {
     "data": {
      "text/plain": [
       "49"
      ]
     },
     "execution_count": 350,
     "metadata": {},
     "output_type": "execute_result"
    }
   ],
   "source": [
    "my_list.sum_of_list()"
   ]
  },
  {
   "cell_type": "code",
   "execution_count": 351,
   "id": "cc5cb564",
   "metadata": {},
   "outputs": [
    {
     "data": {
      "text/plain": [
       "49"
      ]
     },
     "execution_count": 351,
     "metadata": {},
     "output_type": "execute_result"
    }
   ],
   "source": [
    "1+11+3+4+5+7+10+8"
   ]
  },
  {
   "cell_type": "code",
   "execution_count": 352,
   "id": "ca656955",
   "metadata": {},
   "outputs": [
    {
     "data": {
      "text/plain": [
       "1"
      ]
     },
     "execution_count": 352,
     "metadata": {},
     "output_type": "execute_result"
    }
   ],
   "source": [
    "my_list.sums(0,1)"
   ]
  },
  {
   "cell_type": "code",
   "execution_count": null,
   "id": "03cc4bec",
   "metadata": {},
   "outputs": [],
   "source": []
  }
 ],
 "metadata": {
  "kernelspec": {
   "display_name": "Python 3",
   "language": "python",
   "name": "python3"
  },
  "language_info": {
   "codemirror_mode": {
    "name": "ipython",
    "version": 3
   },
   "file_extension": ".py",
   "mimetype": "text/x-python",
   "name": "python",
   "nbconvert_exporter": "python",
   "pygments_lexer": "ipython3",
   "version": "3.8.8"
  }
 },
 "nbformat": 4,
 "nbformat_minor": 5
}
