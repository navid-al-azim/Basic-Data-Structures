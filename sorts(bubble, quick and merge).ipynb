{
 "cells": [
  {
   "cell_type": "markdown",
   "id": "5eee6455",
   "metadata": {},
   "source": [
    "# Bubble Sort"
   ]
  },
  {
   "cell_type": "code",
   "execution_count": 36,
   "id": "6eb73317",
   "metadata": {},
   "outputs": [],
   "source": [
    "def bubble_sort(a):\n",
    "    size = len(a)\n",
    "    for i in range(size):\n",
    "        for j in range(i):\n",
    "            if a[j] > a[j+1]:\n",
    "                a[j], a[j+1] = a[j+1], a[j]"
   ]
  },
  {
   "cell_type": "code",
   "execution_count": 37,
   "id": "25df32db",
   "metadata": {},
   "outputs": [],
   "source": [
    "elems = [2,5,1,6,3,8]\n",
    "bubble_sort(elems)"
   ]
  },
  {
   "cell_type": "code",
   "execution_count": 38,
   "id": "3df1f0be",
   "metadata": {},
   "outputs": [
    {
     "name": "stdout",
     "output_type": "stream",
     "text": [
      "[1, 2, 3, 5, 6, 8]\n"
     ]
    }
   ],
   "source": [
    "print(elems)"
   ]
  },
  {
   "cell_type": "markdown",
   "id": "59da0d46",
   "metadata": {},
   "source": [
    "# Quick Sort "
   ]
  },
  {
   "cell_type": "code",
   "execution_count": 39,
   "id": "35013fd1",
   "metadata": {},
   "outputs": [],
   "source": [
    "def quick_sort(a):\n",
    "    size = len(a)\n",
    "    if size < 1:\n",
    "        return a \n",
    "    else:\n",
    "        pivot = a.pop()\n",
    "    big = []\n",
    "    small = []\n",
    "    for i in range(size-1):\n",
    "        if a[i] > pivot:\n",
    "            big.append(a[i])\n",
    "        elif a[i] < pivot:\n",
    "            small.append(a[i])\n",
    "\n",
    "    return quick_sort(small) + [pivot] + quick_sort(big)\n",
    "            \n",
    "    "
   ]
  },
  {
   "cell_type": "code",
   "execution_count": 40,
   "id": "700747c9",
   "metadata": {},
   "outputs": [
    {
     "data": {
      "text/plain": [
       "[1, 2, 3, 5, 6, 8]"
      ]
     },
     "execution_count": 40,
     "metadata": {},
     "output_type": "execute_result"
    }
   ],
   "source": [
    "elems = [2,5,1,6,3,8]\n",
    "quick_sort(elems)"
   ]
  },
  {
   "cell_type": "markdown",
   "id": "91bd249f",
   "metadata": {},
   "source": [
    "# Merge Sort"
   ]
  },
  {
   "cell_type": "markdown",
   "id": "74030d8e",
   "metadata": {},
   "source": [
    "> Merge sort  for merging 2 sorted lists "
   ]
  },
  {
   "cell_type": "code",
   "execution_count": 46,
   "id": "f2c09c9d",
   "metadata": {},
   "outputs": [
    {
     "data": {
      "text/plain": [
       "[1, 2, 3, 4, 5, 6, 7, 8, 9, 10, 11, 12]"
      ]
     },
     "execution_count": 46,
     "metadata": {},
     "output_type": "execute_result"
    }
   ],
   "source": [
    "def merge_sort_twolist(a,b):\n",
    "    result = []\n",
    "    a_len = len(a)\n",
    "    b_len = len(b)\n",
    "    i = j = 0\n",
    "    while i < a_len and j < b_len:\n",
    "        if a[i] <= b[j]:\n",
    "            result.append(a[i])\n",
    "            i += 1 \n",
    "        else: \n",
    "            result.append(b[j])\n",
    "            j += 1 \n",
    "            \n",
    "    while i < a_len:\n",
    "        result.append(a[i])\n",
    "        i += 1\n",
    "    while j < b_len:\n",
    "        result.append(b[j])\n",
    "        j += 1 \n",
    "    return result\n",
    "\n",
    "\n",
    "\n",
    "a = [1,2,3,4,5,6]\n",
    "b = [7,8,9,10,11,12]\n",
    "merge_sort_twolist(a,b)"
   ]
  },
  {
   "cell_type": "markdown",
   "id": "f4af0a97",
   "metadata": {},
   "source": [
    "> the above funtion is important in merge sort because in merge sort we have to devide the list in parts and merge them calling the function again and again unless the main list is totally sorted \n",
    "\n",
    "> Merge sort uses reccursion which means the funtion keeps calling itself unless the whole problem is solved "
   ]
  },
  {
   "cell_type": "code",
   "execution_count": 43,
   "id": "e5453289",
   "metadata": {},
   "outputs": [],
   "source": [
    "def merge_sort(arr):\n",
    "    def merge_two(a,b,arr):\n",
    "        a_len = len(a)\n",
    "        b_len = len(b)\n",
    "        i = j = k = 0\n",
    "        while i < a_len and j < b_len:\n",
    "            if a[i] <= b[j]:\n",
    "                arr[k] = a[i]\n",
    "                i += 1 \n",
    "            else:\n",
    "                arr[k] = b[j]\n",
    "                j += 1 \n",
    "            k += 1 \n",
    "\n",
    "        while i < a_len:\n",
    "            arr[k] = a[i]\n",
    "            i += 1 \n",
    "            k += 1 \n",
    "        while j < b_len:\n",
    "            arr[k] = b[j]\n",
    "            j += 1 \n",
    "            k += 1\n",
    "    if len(arr) <= 1:\n",
    "        return arr\n",
    "    mid = len(arr)//2\n",
    "    left = arr[:mid]\n",
    "    right = arr[mid:]\n",
    "    merge_sort(left)\n",
    "    merge_sort(right)\n",
    "    merge_two(left, right, arr)\n",
    "    \n",
    " \n"
   ]
  },
  {
   "cell_type": "code",
   "execution_count": 44,
   "id": "ac044ed5",
   "metadata": {},
   "outputs": [
    {
     "name": "stdout",
     "output_type": "stream",
     "text": [
      "[1, 2, 3, 4, 6]\n"
     ]
    }
   ],
   "source": [
    "arr = [1,4,3,2,6]\n",
    "merge_sort(arr)\n",
    "print(arr)"
   ]
  },
  {
   "cell_type": "code",
   "execution_count": 45,
   "id": "1b68c8d9",
   "metadata": {},
   "outputs": [
    {
     "name": "stdout",
     "output_type": "stream",
     "text": [
      "[1, 3, 4, 5, 6, 7, 9, 10, 11, 12]\n",
      "[1, 2, 3, 5, 7]\n",
      "[1, 3, 4, 5]\n",
      "[]\n"
     ]
    }
   ],
   "source": [
    "test_cases = [\n",
    "    [1,3,6,10,12,11,4,7,5,9],\n",
    "    [2,1,5,7,3],\n",
    "    [1,5,4,3],\n",
    "    []\n",
    "]\n",
    "\n",
    "for x in test_cases:\n",
    "    merge_sort(x)\n",
    "    print(x)"
   ]
  },
  {
   "cell_type": "code",
   "execution_count": null,
   "id": "4619dd7f",
   "metadata": {},
   "outputs": [],
   "source": []
  }
 ],
 "metadata": {
  "kernelspec": {
   "display_name": "Python 3",
   "language": "python",
   "name": "python3"
  },
  "language_info": {
   "codemirror_mode": {
    "name": "ipython",
    "version": 3
   },
   "file_extension": ".py",
   "mimetype": "text/x-python",
   "name": "python",
   "nbconvert_exporter": "python",
   "pygments_lexer": "ipython3",
   "version": "3.8.8"
  }
 },
 "nbformat": 4,
 "nbformat_minor": 5
}
